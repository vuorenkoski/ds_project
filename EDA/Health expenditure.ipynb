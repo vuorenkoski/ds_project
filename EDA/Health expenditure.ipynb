{
 "cells": [
  {
   "cell_type": "markdown",
   "id": "b0b0b37a-ad2e-46f2-87b1-990a6ff95a53",
   "metadata": {},
   "source": [
    "# Health expenditure\n",
    "\n",
    "Data source: https://databank.worldbank.org/source/world-development-indicators\n",
    "\n",
    "Used indicators: \n",
    "\n",
    "- Domestic general government health expenditure (% of GDP)(SH.XPD.GHED.GD.ZS): Public expenditure on health from domestic sources as a share of the economy as measured by GDP."
   ]
  },
  {
   "cell_type": "code",
   "execution_count": 1,
   "id": "11fad49f-2ef1-4588-bb9a-0f1f48f05e20",
   "metadata": {},
   "outputs": [],
   "source": [
    "import pandas as pd\n",
    "import numpy as np\n",
    "import matplotlib.pyplot as plt\n",
    "\n",
    "from io import BytesIO\n",
    "from zipfile import ZipFile\n",
    "import requests\n",
    "import xml.etree.ElementTree as et"
   ]
  },
  {
   "cell_type": "code",
   "execution_count": null,
   "id": "e008e604-8fd3-450e-b4a3-cb970f387532",
   "metadata": {},
   "outputs": [],
   "source": [
    "def get_WB_indicator(indicator, year):\n",
    "    url_base='https://api.worldbank.org/v2/en/indicator/'\n",
    "    f = requests.get(url_base+indicator+'?downloadformat=xml').content\n",
    "    zf = ZipFile(BytesIO(f), 'r' )\n",
    "    data=zf.read(zf.namelist()[0])\n",
    "    dataroot = et.fromstring(data)\n",
    "    df = pd.DataFrame()\n",
    "    for m in dataroot[0]:\n",
    "        if m.tag=='record':\n",
    "            d={}\n",
    "            for x in m:\n",
    "                d[x.attrib['name']]=x.text\n",
    "            record = pd.Series(data=d, dtype=str, index=['Country or Area', 'Item', 'Year','Value'])\n",
    "            if int(d['Year'])==year:\n",
    "                df=df.append(record, ignore_index=True)\n",
    "    df=df.rename(columns={'Value':indicator}).drop(['Item'], axis=1)\n",
    "    return df\n",
    "\n",
    "df=get_WB_indicator('SH.XPD.GHED.GD.ZS', 2019).set_index('Country or Area')"
   ]
  }
 ],
 "metadata": {
  "kernelspec": {
   "display_name": "Python 3 (ipykernel)",
   "language": "python",
   "name": "python3"
  },
  "language_info": {
   "codemirror_mode": {
    "name": "ipython",
    "version": 3
   },
   "file_extension": ".py",
   "mimetype": "text/x-python",
   "name": "python",
   "nbconvert_exporter": "python",
   "pygments_lexer": "ipython3",
   "version": "3.8.10"
  }
 },
 "nbformat": 4,
 "nbformat_minor": 5
}
