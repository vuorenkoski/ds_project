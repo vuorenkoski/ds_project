{
 "cells": [
  {
   "cell_type": "markdown",
   "id": "b0b0b37a-ad2e-46f2-87b1-990a6ff95a53",
   "metadata": {},
   "source": [
    "# Exploratory analysis on health expenditure\n",
    "\n",
    "Data source: https://databank.worldbank.org/source/world-development-indicators\n",
    "\n",
    "Used indicators: \n",
    "\n",
    "- Domestic general government health expenditure (% of GDP)(SH.XPD.GHED.GD.ZS): Public expenditure on health from domestic sources as a share of the economy as measured by GDP. Most recent data from 2018."
   ]
  },
  {
   "cell_type": "code",
   "execution_count": 1,
   "id": "11fad49f-2ef1-4588-bb9a-0f1f48f05e20",
   "metadata": {},
   "outputs": [],
   "source": [
    "import pandas as pd\n",
    "import numpy as np\n",
    "import matplotlib.pyplot as plt\n",
    "\n",
    "from io import BytesIO\n",
    "from zipfile import ZipFile\n",
    "import requests\n",
    "import xml.etree.ElementTree as et"
   ]
  },
  {
   "cell_type": "code",
   "execution_count": 2,
   "id": "e008e604-8fd3-450e-b4a3-cb970f387532",
   "metadata": {},
   "outputs": [],
   "source": [
    "def get_WB_indicator(indicator, year):\n",
    "    url_base='https://api.worldbank.org/v2/en/indicator/'\n",
    "    f = requests.get(url_base+indicator+'?downloadformat=xml').content\n",
    "    zf = ZipFile(BytesIO(f), 'r' )\n",
    "    data=zf.read(zf.namelist()[0])\n",
    "    dataroot = et.fromstring(data)\n",
    "    df = pd.DataFrame()\n",
    "    for m in dataroot[0]:\n",
    "        if m.tag=='record':\n",
    "            d={}\n",
    "            for x in m:\n",
    "                d[x.attrib['name']]=x.text\n",
    "            record = pd.Series(data=d, dtype=str, index=['Country or Area', 'Item', 'Year','Value'])\n",
    "            if int(d['Year'])==year:\n",
    "                df=df.append(record, ignore_index=True)\n",
    "    df=df.rename(columns={'Value':indicator}).drop(['Item'], axis=1)\n",
    "    return df\n",
    "\n",
    "df=get_WB_indicator('SH.XPD.GHED.GD.ZS', 2018).set_index('Country or Area')"
   ]
  },
  {
   "cell_type": "code",
   "execution_count": 3,
   "id": "f3ea30cf-0dfe-4a64-8ef6-bc744de5bcfd",
   "metadata": {},
   "outputs": [
    {
     "data": {
      "text/html": [
       "<div>\n",
       "<style scoped>\n",
       "    .dataframe tbody tr th:only-of-type {\n",
       "        vertical-align: middle;\n",
       "    }\n",
       "\n",
       "    .dataframe tbody tr th {\n",
       "        vertical-align: top;\n",
       "    }\n",
       "\n",
       "    .dataframe thead th {\n",
       "        text-align: right;\n",
       "    }\n",
       "</style>\n",
       "<table border=\"1\" class=\"dataframe\">\n",
       "  <thead>\n",
       "    <tr style=\"text-align: right;\">\n",
       "      <th></th>\n",
       "      <th>SH.XPD.GHED.GD.ZS</th>\n",
       "    </tr>\n",
       "  </thead>\n",
       "  <tbody>\n",
       "    <tr>\n",
       "      <th>count</th>\n",
       "      <td>187.000000</td>\n",
       "    </tr>\n",
       "    <tr>\n",
       "      <th>mean</th>\n",
       "      <td>3.529218</td>\n",
       "    </tr>\n",
       "    <tr>\n",
       "      <th>std</th>\n",
       "      <td>2.413863</td>\n",
       "    </tr>\n",
       "    <tr>\n",
       "      <th>min</th>\n",
       "      <td>0.210372</td>\n",
       "    </tr>\n",
       "    <tr>\n",
       "      <th>25%</th>\n",
       "      <td>1.676775</td>\n",
       "    </tr>\n",
       "    <tr>\n",
       "      <th>50%</th>\n",
       "      <td>3.018888</td>\n",
       "    </tr>\n",
       "    <tr>\n",
       "      <th>75%</th>\n",
       "      <td>4.636415</td>\n",
       "    </tr>\n",
       "    <tr>\n",
       "      <th>max</th>\n",
       "      <td>15.212634</td>\n",
       "    </tr>\n",
       "  </tbody>\n",
       "</table>\n",
       "</div>"
      ],
      "text/plain": [
       "       SH.XPD.GHED.GD.ZS\n",
       "count         187.000000\n",
       "mean            3.529218\n",
       "std             2.413863\n",
       "min             0.210372\n",
       "25%             1.676775\n",
       "50%             3.018888\n",
       "75%             4.636415\n",
       "max            15.212634"
      ]
     },
     "execution_count": 3,
     "metadata": {},
     "output_type": "execute_result"
    }
   ],
   "source": [
    "df['SH.XPD.GHED.GD.ZS']=df['SH.XPD.GHED.GD.ZS'].astype(float)\n",
    "df.describe()"
   ]
  },
  {
   "cell_type": "code",
   "execution_count": 4,
   "id": "d790e14b-e10b-4605-a2fc-30ce95646ae0",
   "metadata": {},
   "outputs": [
    {
     "name": "stdout",
     "output_type": "stream",
     "text": [
      "Missing values: 79\n"
     ]
    }
   ],
   "source": [
    "print('Missing values:',df['SH.XPD.GHED.GD.ZS'].isna().sum())"
   ]
  },
  {
   "cell_type": "code",
   "execution_count": null,
   "id": "810b8631-55aa-41de-a35c-1097b0653375",
   "metadata": {},
   "outputs": [],
   "source": []
  }
 ],
 "metadata": {
  "kernelspec": {
   "display_name": "Python 3 (ipykernel)",
   "language": "python",
   "name": "python3"
  },
  "language_info": {
   "codemirror_mode": {
    "name": "ipython",
    "version": 3
   },
   "file_extension": ".py",
   "mimetype": "text/x-python",
   "name": "python",
   "nbconvert_exporter": "python",
   "pygments_lexer": "ipython3",
   "version": "3.8.10"
  }
 },
 "nbformat": 4,
 "nbformat_minor": 5
}
