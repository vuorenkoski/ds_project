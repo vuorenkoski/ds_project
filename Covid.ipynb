{
 "cells": [
  {
   "cell_type": "markdown",
   "id": "b12568fc-2201-4ef9-9482-df4510a89bad",
   "metadata": {},
   "source": [
    "# Covid statistics\n",
    "\n"
   ]
  },
  {
   "cell_type": "code",
   "execution_count": 7,
   "id": "a6f760d8-7b7b-41e0-8c9d-cf02f05a22de",
   "metadata": {},
   "outputs": [],
   "source": [
    "import pandas as pd\n",
    "\n",
    "url = \"https://covid.ourworldindata.org/data/owid-covid-data.csv\"\n",
    "df = pd.read_csv(url)"
   ]
  },
  {
   "cell_type": "markdown",
   "id": "a72018d2-dddb-4033-9ee8-64008b1a2711",
   "metadata": {},
   "source": [
    "Select only one column (total_vaccinations_per_hundred). There is lots of other incators too, for example 'fully_vaccinated' etc."
   ]
  },
  {
   "cell_type": "code",
   "execution_count": 8,
   "id": "3a8c97ad-e583-4bfd-8037-840c2dbad0ad",
   "metadata": {},
   "outputs": [],
   "source": [
    "df.head()\n",
    "v=df[['people_vaccinated_per_hundred','location','date']].dropna()\n",
    "d=df[['total_deaths_per_million','location','date']].dropna()"
   ]
  },
  {
   "cell_type": "markdown",
   "id": "c165dbe7-2cc7-4bae-bdf9-d68d2771c4af",
   "metadata": {},
   "source": [
    "There is daily data on each country, lets select only most recent date for each country."
   ]
  },
  {
   "cell_type": "code",
   "execution_count": 9,
   "id": "755bdd33-b4c0-43fd-b210-a98557ffa63c",
   "metadata": {},
   "outputs": [
    {
     "data": {
      "text/html": [
       "<div>\n",
       "<style scoped>\n",
       "    .dataframe tbody tr th:only-of-type {\n",
       "        vertical-align: middle;\n",
       "    }\n",
       "\n",
       "    .dataframe tbody tr th {\n",
       "        vertical-align: top;\n",
       "    }\n",
       "\n",
       "    .dataframe thead th {\n",
       "        text-align: right;\n",
       "    }\n",
       "</style>\n",
       "<table border=\"1\" class=\"dataframe\">\n",
       "  <thead>\n",
       "    <tr style=\"text-align: right;\">\n",
       "      <th></th>\n",
       "      <th>people_vaccinated_per_hundred</th>\n",
       "      <th>location</th>\n",
       "      <th>date</th>\n",
       "    </tr>\n",
       "    <tr>\n",
       "      <th>location</th>\n",
       "      <th></th>\n",
       "      <th></th>\n",
       "      <th></th>\n",
       "    </tr>\n",
       "  </thead>\n",
       "  <tbody>\n",
       "    <tr>\n",
       "      <th>Afghanistan</th>\n",
       "      <td>2.08</td>\n",
       "      <td>Afghanistan</td>\n",
       "      <td>2021-09-30</td>\n",
       "    </tr>\n",
       "    <tr>\n",
       "      <th>Africa</th>\n",
       "      <td>8.61</td>\n",
       "      <td>Africa</td>\n",
       "      <td>2021-10-28</td>\n",
       "    </tr>\n",
       "    <tr>\n",
       "      <th>Albania</th>\n",
       "      <td>35.19</td>\n",
       "      <td>Albania</td>\n",
       "      <td>2021-10-28</td>\n",
       "    </tr>\n",
       "    <tr>\n",
       "      <th>Algeria</th>\n",
       "      <td>14.18</td>\n",
       "      <td>Algeria</td>\n",
       "      <td>2021-10-24</td>\n",
       "    </tr>\n",
       "    <tr>\n",
       "      <th>Andorra</th>\n",
       "      <td>70.21</td>\n",
       "      <td>Andorra</td>\n",
       "      <td>2021-09-26</td>\n",
       "    </tr>\n",
       "    <tr>\n",
       "      <th>...</th>\n",
       "      <td>...</td>\n",
       "      <td>...</td>\n",
       "      <td>...</td>\n",
       "    </tr>\n",
       "    <tr>\n",
       "      <th>Wallis and Futuna</th>\n",
       "      <td>53.15</td>\n",
       "      <td>Wallis and Futuna</td>\n",
       "      <td>2021-10-25</td>\n",
       "    </tr>\n",
       "    <tr>\n",
       "      <th>World</th>\n",
       "      <td>49.10</td>\n",
       "      <td>World</td>\n",
       "      <td>2021-10-28</td>\n",
       "    </tr>\n",
       "    <tr>\n",
       "      <th>Yemen</th>\n",
       "      <td>1.01</td>\n",
       "      <td>Yemen</td>\n",
       "      <td>2021-10-11</td>\n",
       "    </tr>\n",
       "    <tr>\n",
       "      <th>Zambia</th>\n",
       "      <td>1.64</td>\n",
       "      <td>Zambia</td>\n",
       "      <td>2021-09-07</td>\n",
       "    </tr>\n",
       "    <tr>\n",
       "      <th>Zimbabwe</th>\n",
       "      <td>21.91</td>\n",
       "      <td>Zimbabwe</td>\n",
       "      <td>2021-10-28</td>\n",
       "    </tr>\n",
       "  </tbody>\n",
       "</table>\n",
       "<p>227 rows × 3 columns</p>\n",
       "</div>"
      ],
      "text/plain": [
       "                   people_vaccinated_per_hundred           location  \\\n",
       "location                                                              \n",
       "Afghanistan                                 2.08        Afghanistan   \n",
       "Africa                                      8.61             Africa   \n",
       "Albania                                    35.19            Albania   \n",
       "Algeria                                    14.18            Algeria   \n",
       "Andorra                                    70.21            Andorra   \n",
       "...                                          ...                ...   \n",
       "Wallis and Futuna                          53.15  Wallis and Futuna   \n",
       "World                                      49.10              World   \n",
       "Yemen                                       1.01              Yemen   \n",
       "Zambia                                      1.64             Zambia   \n",
       "Zimbabwe                                   21.91           Zimbabwe   \n",
       "\n",
       "                         date  \n",
       "location                       \n",
       "Afghanistan        2021-09-30  \n",
       "Africa             2021-10-28  \n",
       "Albania            2021-10-28  \n",
       "Algeria            2021-10-24  \n",
       "Andorra            2021-09-26  \n",
       "...                       ...  \n",
       "Wallis and Futuna  2021-10-25  \n",
       "World              2021-10-28  \n",
       "Yemen              2021-10-11  \n",
       "Zambia             2021-09-07  \n",
       "Zimbabwe           2021-10-28  \n",
       "\n",
       "[227 rows x 3 columns]"
      ]
     },
     "execution_count": 9,
     "metadata": {},
     "output_type": "execute_result"
    }
   ],
   "source": [
    "recent=v.groupby('location').apply(lambda df : df.sort_values('date', ascending=False).iloc[0])\n",
    "recent"
   ]
  },
  {
   "cell_type": "markdown",
   "id": "ea43632a-6425-4162-afb8-7e0d7e071782",
   "metadata": {},
   "source": [
    "Data is saved in CSV format, where columns are 'Country or Area', 'Item', 'Year', 'Value'."
   ]
  },
  {
   "cell_type": "code",
   "execution_count": 10,
   "id": "d3e442bf-cdfb-4d55-867f-70006d230b20",
   "metadata": {},
   "outputs": [
    {
     "name": "stdout",
     "output_type": "stream",
     "text": [
      "people_vaccinated_per_hundred\n"
     ]
    }
   ],
   "source": [
    "data_name = recent.columns[0]\n",
    "print(data_name)\n",
    "recent=recent.drop(['date'],axis=1).rename(columns={'location':'Country or Area', data_name:'Value'})\n",
    "recent['Item']=data_name\n",
    "recent['Year']=2021\n",
    "recent.to_csv('Covid_statistics.csv', index=False)"
   ]
  },
  {
   "cell_type": "code",
   "execution_count": 11,
   "id": "9cbdd3e1-4a28-444a-a723-f777cf37245a",
   "metadata": {},
   "outputs": [],
   "source": [
    "d=d.groupby('location').apply(lambda df : df.sort_values('date', ascending=False).iloc[0])\n",
    "data_name = d.columns[0]\n",
    "d=d.drop(['date'],axis=1).rename(columns={'location':'Country or Area', data_name:'Value'})\n",
    "d['Item']=data_name\n",
    "d['Year']=2021\n",
    "both=pd.concat([recent,d])\n",
    "both.to_csv('Covid_statistics.csv', index=False)"
   ]
  },
  {
   "cell_type": "code",
   "execution_count": 12,
   "id": "12d876fd",
   "metadata": {},
   "outputs": [
    {
     "name": "stdout",
     "output_type": "stream",
     "text": [
      "total_deaths_per_million\n"
     ]
    }
   ],
   "source": [
    "print(data_name)"
   ]
  },
  {
   "cell_type": "code",
   "execution_count": 13,
   "id": "e07f4957",
   "metadata": {},
   "outputs": [
    {
     "data": {
      "text/html": [
       "<div>\n",
       "<style scoped>\n",
       "    .dataframe tbody tr th:only-of-type {\n",
       "        vertical-align: middle;\n",
       "    }\n",
       "\n",
       "    .dataframe tbody tr th {\n",
       "        vertical-align: top;\n",
       "    }\n",
       "\n",
       "    .dataframe thead th {\n",
       "        text-align: right;\n",
       "    }\n",
       "</style>\n",
       "<table border=\"1\" class=\"dataframe\">\n",
       "  <thead>\n",
       "    <tr style=\"text-align: right;\">\n",
       "      <th></th>\n",
       "      <th>Value</th>\n",
       "      <th>Country or Area</th>\n",
       "      <th>Item</th>\n",
       "      <th>Year</th>\n",
       "    </tr>\n",
       "    <tr>\n",
       "      <th>location</th>\n",
       "      <th></th>\n",
       "      <th></th>\n",
       "      <th></th>\n",
       "      <th></th>\n",
       "    </tr>\n",
       "  </thead>\n",
       "  <tbody>\n",
       "    <tr>\n",
       "      <th>Afghanistan</th>\n",
       "      <td>2.080</td>\n",
       "      <td>Afghanistan</td>\n",
       "      <td>people_vaccinated_per_hundred</td>\n",
       "      <td>2021</td>\n",
       "    </tr>\n",
       "    <tr>\n",
       "      <th>Africa</th>\n",
       "      <td>8.610</td>\n",
       "      <td>Africa</td>\n",
       "      <td>people_vaccinated_per_hundred</td>\n",
       "      <td>2021</td>\n",
       "    </tr>\n",
       "    <tr>\n",
       "      <th>Albania</th>\n",
       "      <td>35.190</td>\n",
       "      <td>Albania</td>\n",
       "      <td>people_vaccinated_per_hundred</td>\n",
       "      <td>2021</td>\n",
       "    </tr>\n",
       "    <tr>\n",
       "      <th>Algeria</th>\n",
       "      <td>14.180</td>\n",
       "      <td>Algeria</td>\n",
       "      <td>people_vaccinated_per_hundred</td>\n",
       "      <td>2021</td>\n",
       "    </tr>\n",
       "    <tr>\n",
       "      <th>Andorra</th>\n",
       "      <td>70.210</td>\n",
       "      <td>Andorra</td>\n",
       "      <td>people_vaccinated_per_hundred</td>\n",
       "      <td>2021</td>\n",
       "    </tr>\n",
       "    <tr>\n",
       "      <th>...</th>\n",
       "      <td>...</td>\n",
       "      <td>...</td>\n",
       "      <td>...</td>\n",
       "      <td>...</td>\n",
       "    </tr>\n",
       "    <tr>\n",
       "      <th>Vietnam</th>\n",
       "      <td>223.757</td>\n",
       "      <td>Vietnam</td>\n",
       "      <td>total_deaths_per_million</td>\n",
       "      <td>2021</td>\n",
       "    </tr>\n",
       "    <tr>\n",
       "      <th>World</th>\n",
       "      <td>633.594</td>\n",
       "      <td>World</td>\n",
       "      <td>total_deaths_per_million</td>\n",
       "      <td>2021</td>\n",
       "    </tr>\n",
       "    <tr>\n",
       "      <th>Yemen</th>\n",
       "      <td>61.560</td>\n",
       "      <td>Yemen</td>\n",
       "      <td>total_deaths_per_million</td>\n",
       "      <td>2021</td>\n",
       "    </tr>\n",
       "    <tr>\n",
       "      <th>Zambia</th>\n",
       "      <td>193.439</td>\n",
       "      <td>Zambia</td>\n",
       "      <td>total_deaths_per_million</td>\n",
       "      <td>2021</td>\n",
       "    </tr>\n",
       "    <tr>\n",
       "      <th>Zimbabwe</th>\n",
       "      <td>309.763</td>\n",
       "      <td>Zimbabwe</td>\n",
       "      <td>total_deaths_per_million</td>\n",
       "      <td>2021</td>\n",
       "    </tr>\n",
       "  </tbody>\n",
       "</table>\n",
       "<p>421 rows × 4 columns</p>\n",
       "</div>"
      ],
      "text/plain": [
       "               Value Country or Area                           Item  Year\n",
       "location                                                                 \n",
       "Afghanistan    2.080     Afghanistan  people_vaccinated_per_hundred  2021\n",
       "Africa         8.610          Africa  people_vaccinated_per_hundred  2021\n",
       "Albania       35.190         Albania  people_vaccinated_per_hundred  2021\n",
       "Algeria       14.180         Algeria  people_vaccinated_per_hundred  2021\n",
       "Andorra       70.210         Andorra  people_vaccinated_per_hundred  2021\n",
       "...              ...             ...                            ...   ...\n",
       "Vietnam      223.757         Vietnam       total_deaths_per_million  2021\n",
       "World        633.594           World       total_deaths_per_million  2021\n",
       "Yemen         61.560           Yemen       total_deaths_per_million  2021\n",
       "Zambia       193.439          Zambia       total_deaths_per_million  2021\n",
       "Zimbabwe     309.763        Zimbabwe       total_deaths_per_million  2021\n",
       "\n",
       "[421 rows x 4 columns]"
      ]
     },
     "execution_count": 13,
     "metadata": {},
     "output_type": "execute_result"
    }
   ],
   "source": [
    "both"
   ]
  },
  {
   "cell_type": "code",
   "execution_count": null,
   "id": "22f7f4bb",
   "metadata": {},
   "outputs": [],
   "source": []
  }
 ],
 "metadata": {
  "kernelspec": {
   "display_name": "Python 3 (ipykernel)",
   "language": "python",
   "name": "python3"
  },
  "language_info": {
   "codemirror_mode": {
    "name": "ipython",
    "version": 3
   },
   "file_extension": ".py",
   "mimetype": "text/x-python",
   "name": "python",
   "nbconvert_exporter": "python",
   "pygments_lexer": "ipython3",
   "version": "3.8.5"
  }
 },
 "nbformat": 4,
 "nbformat_minor": 5
}
